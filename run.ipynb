{
 "cells": [
  {
   "cell_type": "markdown",
   "metadata": {},
   "source": [
    "## Efficient Dataset Condensation with Synthetic Data Parameterization"
   ]
  },
  {
   "cell_type": "markdown",
   "metadata": {},
   "source": [
    "### Get the Dataset and basic preprocessing to remove skewness of test set"
   ]
  },
  {
   "cell_type": "markdown",
   "metadata": {},
   "source": [
    "### For the standard dataset, run this:"
   ]
  },
  {
   "cell_type": "code",
   "execution_count": 1,
   "metadata": {},
   "outputs": [],
   "source": [
    "%%bash\n",
    "wget https://isic-challenge-data.s3.amazonaws.com/2016/ISBI2016_ISIC_Part3_Training_Data.zip\n",
    "unzip  ISBI2016_ISIC_Part3_Training_Data.zip\n",
    "mv ISBI2016_ISIC_Part3_Training_Data ISIC2016_TrainingImages\n",
    "\n",
    "wget https://isic-challenge-data.s3.amazonaws.com/2016/ISBI2016_ISIC_Part3_Test_Data.zip\n",
    "unzip  ISBI2016_ISIC_Part3_Test_Data.zip\n",
    "mv ISBI2016_ISIC_Part3_Test_Data ISIC2016_TestImages"
   ]
  },
  {
   "cell_type": "markdown",
   "metadata": {},
   "source": [
    "### For cropped dataset from binary masks, run this instead:"
   ]
  },
  {
   "cell_type": "code",
   "execution_count": null,
   "metadata": {},
   "outputs": [],
   "source": [
    "%%bash\n",
    "wget https://isic-challenge-data.s3.amazonaws.com/2016/ISBI2016_ISIC_Part3B_Training_Data.zip\n",
    "unzip  ISBI2016_ISIC_Part3B_Training_Data.zip\n",
    "python3 preprocess.py --source_dir \"./ISBI2016_ISIC_Part3B_Training_Data\" --dest_dir \"./ISIC2016_TrainingImages\" --img_size 150 150\n",
    "rm -rf ISBI2016_ISIC_Part3B_Training_Data\n",
    "\n",
    "wget https://isic-challenge-data.s3.amazonaws.com/2016/ISBI2016_ISIC_Part3B_Test_Data.zip\n",
    "unzip  ISBI2016_ISIC_Part3B_Test_Data.zip\n",
    "python3 preprocess.py --source_dir \"./ISBI2016_ISIC_Part3B_Test_Data\" --dest_dir \"./ISIC2016_TestImages\" --img_size 150 150\n",
    "rm -rf ISBI2016_ISIC_Part3_Test_Data"
   ]
  },
  {
   "cell_type": "markdown",
   "metadata": {},
   "source": [
    "### Now let's get the labels and preprocess them"
   ]
  },
  {
   "cell_type": "code",
   "execution_count": null,
   "metadata": {},
   "outputs": [],
   "source": [
    "%%bash\n",
    "wget https://isic-challenge-data.s3.amazonaws.com/2016/ISBI2016_ISIC_Part3_Training_GroundTruth.csv\n",
    "wget https://isic-challenge-data.s3.amazonaws.com/2016/ISBI2016_ISIC_Part3_Test_GroundTruth.csv\n",
    "mv ISBI2016_ISIC_Part3_Training_GroundTruth.csv ISIC2016_TrainingLabels.csv\n",
    "mv ISBI2016_ISIC_Part3_Test_GroundTruth.csv ISIC2016_TestLabels.csv"
   ]
  },
  {
   "cell_type": "code",
   "execution_count": null,
   "metadata": {},
   "outputs": [],
   "source": [
    "import csv\n",
    "import pandas as pd\n",
    "import random\n",
    "\n",
    "path_test_csv = \"./ISIC2016_TestLabels.csv\"\n",
    "df = pd.read_csv(path_test_csv, header=None)\n",
    "indices = df.index[df.iloc[:, 1] == 0.0].tolist()\n",
    "print(indices, len(indices))\n",
    "indices_remove = random.sample(indices, 229)\n",
    "print(indices_remove, len(indices_remove))\n",
    "print(df)\n",
    "df.drop(df.index[indices_remove], inplace=True)\n",
    "print(df)\n",
    "print(df.shape)\n",
    "print(df.iloc[:, 1].value_counts())\n",
    "df.to_csv(path_test_csv, index=False, header=None)"
   ]
  },
  {
   "cell_type": "markdown",
   "metadata": {},
   "source": [
    "### Install required packages"
   ]
  },
  {
   "cell_type": "code",
   "execution_count": null,
   "metadata": {},
   "outputs": [],
   "source": [
    "%%bash\n",
    "pip install efficientnet_pytorch"
   ]
  },
  {
   "cell_type": "markdown",
   "metadata": {},
   "source": [
    "### Run the condensation"
   ]
  },
  {
   "cell_type": "code",
   "execution_count": null,
   "metadata": {},
   "outputs": [],
   "source": [
    "%%bash\n",
    "python Efficient-Dataset-Condensation/condense.py -d isic2016 --data_dir \"../\" --ipc 10 --verbose -n convnet --epochs 100 --niter 250 --inner_loop 100 --n_data 200"
   ]
  }
 ],
 "metadata": {
  "kernelspec": {
   "display_name": "Python 3.9.4 64-bit",
   "language": "python",
   "name": "python3"
  },
  "language_info": {
   "codemirror_mode": {
    "name": "ipython",
    "version": 3
   },
   "file_extension": ".py",
   "mimetype": "text/x-python",
   "name": "python",
   "nbconvert_exporter": "python",
   "pygments_lexer": "ipython3",
   "version": "3.9.4"
  },
  "orig_nbformat": 4,
  "vscode": {
   "interpreter": {
    "hash": "d76dadd8f01225ff93f3bbe370a4c988b2c78f601c88ec7830866eae3836404b"
   }
  }
 },
 "nbformat": 4,
 "nbformat_minor": 2
}
